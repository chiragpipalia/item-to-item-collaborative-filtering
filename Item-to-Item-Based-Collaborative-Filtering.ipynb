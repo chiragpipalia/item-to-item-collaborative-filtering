{
 "cells": [
  {
   "cell_type": "markdown",
   "metadata": {},
   "source": [
    "### Reference\n",
    "\n",
    "https://www.geeksforgeeks.org/item-to-item-based-collaborative-filtering/"
   ]
  },
  {
   "cell_type": "code",
   "execution_count": 7,
   "metadata": {},
   "outputs": [],
   "source": [
    "import pandas as pd\n",
    "import numpy as np"
   ]
  },
  {
   "cell_type": "code",
   "execution_count": 201,
   "metadata": {},
   "outputs": [],
   "source": [
    "df = pd.read_csv('data.csv', index_col = 0)"
   ]
  },
  {
   "cell_type": "code",
   "execution_count": 202,
   "metadata": {},
   "outputs": [
    {
     "data": {
      "text/html": [
       "<div>\n",
       "<style scoped>\n",
       "    .dataframe tbody tr th:only-of-type {\n",
       "        vertical-align: middle;\n",
       "    }\n",
       "\n",
       "    .dataframe tbody tr th {\n",
       "        vertical-align: top;\n",
       "    }\n",
       "\n",
       "    .dataframe thead th {\n",
       "        text-align: right;\n",
       "    }\n",
       "</style>\n",
       "<table border=\"1\" class=\"dataframe\">\n",
       "  <thead>\n",
       "    <tr style=\"text-align: right;\">\n",
       "      <th></th>\n",
       "      <th>movie1</th>\n",
       "      <th>movie2</th>\n",
       "      <th>movie3</th>\n",
       "      <th>movie4</th>\n",
       "      <th>movie5</th>\n",
       "      <th>movie6</th>\n",
       "    </tr>\n",
       "  </thead>\n",
       "  <tbody>\n",
       "    <tr>\n",
       "      <th>U1</th>\n",
       "      <td>5.0</td>\n",
       "      <td>3.0</td>\n",
       "      <td>3.0</td>\n",
       "      <td>3.0</td>\n",
       "      <td>2.0</td>\n",
       "      <td>3.0</td>\n",
       "    </tr>\n",
       "    <tr>\n",
       "      <th>U2</th>\n",
       "      <td>5.0</td>\n",
       "      <td>3.0</td>\n",
       "      <td>5.0</td>\n",
       "      <td>5.0</td>\n",
       "      <td>3.0</td>\n",
       "      <td>3.0</td>\n",
       "    </tr>\n",
       "    <tr>\n",
       "      <th>U3</th>\n",
       "      <td>2.0</td>\n",
       "      <td>NaN</td>\n",
       "      <td>5.0</td>\n",
       "      <td>3.0</td>\n",
       "      <td>NaN</td>\n",
       "      <td>4.0</td>\n",
       "    </tr>\n",
       "    <tr>\n",
       "      <th>U4</th>\n",
       "      <td>NaN</td>\n",
       "      <td>NaN</td>\n",
       "      <td>5.0</td>\n",
       "      <td>4.0</td>\n",
       "      <td>NaN</td>\n",
       "      <td>4.0</td>\n",
       "    </tr>\n",
       "    <tr>\n",
       "      <th>U5</th>\n",
       "      <td>4.0</td>\n",
       "      <td>4.0</td>\n",
       "      <td>4.0</td>\n",
       "      <td>NaN</td>\n",
       "      <td>2.0</td>\n",
       "      <td>3.0</td>\n",
       "    </tr>\n",
       "    <tr>\n",
       "      <th>U6</th>\n",
       "      <td>3.0</td>\n",
       "      <td>NaN</td>\n",
       "      <td>4.0</td>\n",
       "      <td>5.0</td>\n",
       "      <td>3.0</td>\n",
       "      <td>3.0</td>\n",
       "    </tr>\n",
       "    <tr>\n",
       "      <th>U7</th>\n",
       "      <td>NaN</td>\n",
       "      <td>NaN</td>\n",
       "      <td>4.0</td>\n",
       "      <td>4.0</td>\n",
       "      <td>1.0</td>\n",
       "      <td>NaN</td>\n",
       "    </tr>\n",
       "  </tbody>\n",
       "</table>\n",
       "</div>"
      ],
      "text/plain": [
       "    movie1  movie2  movie3  movie4  movie5  movie6\n",
       "U1     5.0     3.0     3.0     3.0     2.0     3.0\n",
       "U2     5.0     3.0     5.0     5.0     3.0     3.0\n",
       "U3     2.0     NaN     5.0     3.0     NaN     4.0\n",
       "U4     NaN     NaN     5.0     4.0     NaN     4.0\n",
       "U5     4.0     4.0     4.0     NaN     2.0     3.0\n",
       "U6     3.0     NaN     4.0     5.0     3.0     3.0\n",
       "U7     NaN     NaN     4.0     4.0     1.0     NaN"
      ]
     },
     "execution_count": 202,
     "metadata": {},
     "output_type": "execute_result"
    }
   ],
   "source": [
    "item_item_matrix = pd.DataFrame(columns = df.index,  index = df.index)\n",
    "dfT = df.T\n",
    "dfT"
   ]
  },
  {
   "cell_type": "markdown",
   "metadata": {},
   "source": [
    "## Cosine Similarity\n",
    "\n",
    "<img src=\"https://www.geeksforgeeks.org/wp-content/ql-cache/quicklatex.com-6a635084614b8873ccdb323986d9a7aa_l3.svg\" width = 400 height = 400/>"
   ]
  },
  {
   "cell_type": "code",
   "execution_count": 211,
   "metadata": {},
   "outputs": [],
   "source": [
    "import math\n",
    "from numpy.linalg import norm\n",
    "\n",
    "def get_sim(i1, i2):\n",
    "    num = np.dot(i1, i2)\n",
    "    den = norm(i1)*norm(i2)\n",
    "    return num/den\n",
    "\n",
    "def similarity(item1, item2):\n",
    "    i1, i2 = np.array([]), np.array([])\n",
    "    for i, j in zip(dfT[item1].tolist(), dfT[item2].tolist()):\n",
    "        if i >= 0 and j >= 0:\n",
    "            i1 = np.append(i1, [i])\n",
    "            i2 = np.append(i2, [j]) \n",
    "    return get_sim(i1, i2)\n"
   ]
  },
  {
   "cell_type": "code",
   "execution_count": 206,
   "metadata": {},
   "outputs": [],
   "source": [
    "items = dfT.columns.tolist()\n",
    "\n",
    "for item1 in items:\n",
    "    for item2 in items:\n",
    "        item_item_matrix.at[item1, item2] = similarity(item1, item2)\n"
   ]
  },
  {
   "cell_type": "code",
   "execution_count": 207,
   "metadata": {},
   "outputs": [
    {
     "data": {
      "text/html": [
       "<div>\n",
       "<style scoped>\n",
       "    .dataframe tbody tr th:only-of-type {\n",
       "        vertical-align: middle;\n",
       "    }\n",
       "\n",
       "    .dataframe tbody tr th {\n",
       "        vertical-align: top;\n",
       "    }\n",
       "\n",
       "    .dataframe thead th {\n",
       "        text-align: right;\n",
       "    }\n",
       "</style>\n",
       "<table border=\"1\" class=\"dataframe\">\n",
       "  <thead>\n",
       "    <tr style=\"text-align: right;\">\n",
       "      <th></th>\n",
       "      <th>movie1</th>\n",
       "      <th>movie2</th>\n",
       "      <th>movie3</th>\n",
       "      <th>movie4</th>\n",
       "      <th>movie5</th>\n",
       "      <th>movie6</th>\n",
       "    </tr>\n",
       "  </thead>\n",
       "  <tbody>\n",
       "    <tr>\n",
       "      <th>movie1</th>\n",
       "      <td>1</td>\n",
       "      <td>0.971061</td>\n",
       "      <td>0.919942</td>\n",
       "      <td>0.931977</td>\n",
       "      <td>0.951113</td>\n",
       "      <td>0.920528</td>\n",
       "    </tr>\n",
       "    <tr>\n",
       "      <th>movie2</th>\n",
       "      <td>0.971061</td>\n",
       "      <td>1</td>\n",
       "      <td>0.970143</td>\n",
       "      <td>0.970143</td>\n",
       "      <td>0.956674</td>\n",
       "      <td>0.990148</td>\n",
       "    </tr>\n",
       "    <tr>\n",
       "      <th>movie3</th>\n",
       "      <td>0.919942</td>\n",
       "      <td>0.970143</td>\n",
       "      <td>1</td>\n",
       "      <td>0.974901</td>\n",
       "      <td>0.956365</td>\n",
       "      <td>0.99083</td>\n",
       "    </tr>\n",
       "    <tr>\n",
       "      <th>movie4</th>\n",
       "      <td>0.931977</td>\n",
       "      <td>0.970143</td>\n",
       "      <td>0.974901</td>\n",
       "      <td>1</td>\n",
       "      <td>0.963087</td>\n",
       "      <td>0.95172</td>\n",
       "    </tr>\n",
       "    <tr>\n",
       "      <th>movie5</th>\n",
       "      <td>0.951113</td>\n",
       "      <td>0.956674</td>\n",
       "      <td>0.956365</td>\n",
       "      <td>0.963087</td>\n",
       "      <td>1</td>\n",
       "      <td>0.980581</td>\n",
       "    </tr>\n",
       "    <tr>\n",
       "      <th>movie6</th>\n",
       "      <td>0.920528</td>\n",
       "      <td>0.990148</td>\n",
       "      <td>0.99083</td>\n",
       "      <td>0.95172</td>\n",
       "      <td>0.980581</td>\n",
       "      <td>1</td>\n",
       "    </tr>\n",
       "  </tbody>\n",
       "</table>\n",
       "</div>"
      ],
      "text/plain": [
       "          movie1    movie2    movie3    movie4    movie5    movie6\n",
       "movie1         1  0.971061  0.919942  0.931977  0.951113  0.920528\n",
       "movie2  0.971061         1  0.970143  0.970143  0.956674  0.990148\n",
       "movie3  0.919942  0.970143         1  0.974901  0.956365   0.99083\n",
       "movie4  0.931977  0.970143  0.974901         1  0.963087   0.95172\n",
       "movie5  0.951113  0.956674  0.956365  0.963087         1  0.980581\n",
       "movie6  0.920528  0.990148   0.99083   0.95172  0.980581         1"
      ]
     },
     "execution_count": 207,
     "metadata": {},
     "output_type": "execute_result"
    }
   ],
   "source": [
    "item_item_matrix"
   ]
  },
  {
   "cell_type": "markdown",
   "metadata": {},
   "source": [
    "<img src=\"https://www.geeksforgeeks.org/wp-content/ql-cache/quicklatex.com-5a19f8c3bde47cde6d8df03dd9a29d7d_l3.svg\" width = 400 height = 400/>"
   ]
  },
  {
   "cell_type": "code",
   "execution_count": 208,
   "metadata": {},
   "outputs": [
    {
     "name": "stdout",
     "output_type": "stream",
     "text": [
      "U3\n"
     ]
    },
    {
     "data": {
      "text/plain": [
       "[[3.5043170188787363, 'movie5'], [3.5022107253003334, 'movie2']]"
      ]
     },
     "execution_count": 208,
     "metadata": {},
     "output_type": "execute_result"
    }
   ],
   "source": [
    "items = item_item_matrix.columns.tolist()\n",
    "user = 'U3'\n",
    "unrated_items = df.loc[df[user].isna()].index.tolist()\n",
    "print(user)\n",
    "recoms = []\n",
    "for uitem in unrated_items:\n",
    "    \n",
    "    num, den = 0,0\n",
    "    for item in items:\n",
    "        if item != uitem and pd.notna(df.loc[item, user]):\n",
    "            sim = item_item_matrix.loc[uitem, item]\n",
    "            ur = df.loc[item, user]\n",
    "            \n",
    "            num += (sim*ur)\n",
    "            den += sim\n",
    "            #print(sim, ur, num, den)\n",
    "    \n",
    "    user_rating = num/den\n",
    "    \n",
    "    recoms.append([user_rating, uitem])\n",
    "recoms.sort(reverse = True)\n",
    "recoms"
   ]
  },
  {
   "cell_type": "code",
   "execution_count": null,
   "metadata": {},
   "outputs": [],
   "source": []
  },
  {
   "cell_type": "code",
   "execution_count": null,
   "metadata": {},
   "outputs": [],
   "source": []
  }
 ],
 "metadata": {
  "kernelspec": {
   "display_name": "Python 3",
   "language": "python",
   "name": "python3"
  },
  "language_info": {
   "codemirror_mode": {
    "name": "ipython",
    "version": 3
   },
   "file_extension": ".py",
   "mimetype": "text/x-python",
   "name": "python",
   "nbconvert_exporter": "python",
   "pygments_lexer": "ipython3",
   "version": "3.7.4"
  }
 },
 "nbformat": 4,
 "nbformat_minor": 4
}
